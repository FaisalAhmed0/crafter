{
 "cells": [
  {
   "cell_type": "code",
   "execution_count": null,
   "id": "91a9e967",
   "metadata": {},
   "outputs": [],
   "source": [
    "# Location of the stats.jsonl file\n",
    "jsonl_file_loc = \"../examples/logdir/crafter_noreward-random/0\"\n",
    "# Where to save the read metrics?\n",
    "metrics_loc = \"scores\"\n",
    "# Experiment arguments\n",
    "task = \"crafter_noreward\" # either crafter_noreward or crafter_reward \n",
    "agent = \"random\"\n",
    "budget = 1000 # number of training steps used to train the agent"
   ]
  },
  {
   "cell_type": "code",
   "execution_count": null,
   "id": "d12254fb",
   "metadata": {},
   "outputs": [],
   "source": [
    "from read_metrics import read_stats\n",
    "# read metrics and save them as a json file in the specified location.\n",
    "# The function will printout the file location, copy it.\n",
    "read_stats(\n",
    "    jsonl_file_loc,\n",
    "    metrics_loc,\n",
    "    task, agent, budget\n",
    ")"
   ]
  },
  {
   "cell_type": "code",
   "execution_count": null,
   "id": "0ca53464",
   "metadata": {},
   "outputs": [],
   "source": [
    "# location of the metrics file\n",
    "metrics = \"../scores/crafter_noreward-random.json\"\n",
    "from plot_counts import plot_counts\n",
    "from plot_reward import plot_reward\n",
    "from plot_scores import plot_scores\n",
    "from plot_spectrum import plot_spectrum"
   ]
  },
  {
   "cell_type": "code",
   "execution_count": null,
   "id": "c16d266b",
   "metadata": {},
   "outputs": [],
   "source": [
    "inpaths = [\n",
    "  \"scores/crafter_noreward-random.json\",\n",
    "#   \"scores/crafter_noreward-random.json\"\n",
    "]\n",
    "legend = {\n",
    "  \"random\": \"Random\",\n",
    "#   \"random\": \"Random2\"\n",
    "}\n",
    "colors = [\n",
    "  '#cccccc',\n",
    "#     '#377eb8'\n",
    "    \n",
    "]\n",
    "# plot_scores(inpaths, 'plots/scores-testing.pdf', legend, colors, ylim=100)\n",
    "# plot_reward(inpaths, 'plots/reward-testing.pdf', legend, colors, cols=4)\n",
    "# plot_counts(inpaths[0], 'plots/count-testing.pdf', '#cccccc')\n",
    "plot_spectrum(inpaths, 'plots/spectrum_no_reward-testing.pdf', legend, colors, budget=1000)"
   ]
  },
  {
   "cell_type": "code",
   "execution_count": null,
   "id": "a9f83c83",
   "metadata": {},
   "outputs": [],
   "source": []
  }
 ],
 "metadata": {
  "kernelspec": {
   "display_name": "Python 3 (ipykernel)",
   "language": "python",
   "name": "python3"
  },
  "language_info": {
   "codemirror_mode": {
    "name": "ipython",
    "version": 3
   },
   "file_extension": ".py",
   "mimetype": "text/x-python",
   "name": "python",
   "nbconvert_exporter": "python",
   "pygments_lexer": "ipython3",
   "version": "3.11.5"
  }
 },
 "nbformat": 4,
 "nbformat_minor": 5
}
